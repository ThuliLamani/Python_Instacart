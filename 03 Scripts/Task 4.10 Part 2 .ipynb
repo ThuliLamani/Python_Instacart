{
 "cells": [
  {
   "cell_type": "markdown",
   "id": "42571316",
   "metadata": {},
   "source": [
    "# Contents "
   ]
  },
  {
   "cell_type": "markdown",
   "id": "768cbef5",
   "metadata": {},
   "source": [
    "### 01. Importing libraries and data\n",
    "### 02. Customer profiling\n"
   ]
  },
  {
   "cell_type": "markdown",
   "id": "8de35bdd",
   "metadata": {},
   "source": [
    "## Importing libraries and data"
   ]
  },
  {
   "cell_type": "code",
   "execution_count": 1,
   "id": "56660554",
   "metadata": {},
   "outputs": [],
   "source": [
    "# Import libraries \n",
    "import pandas as pd\n",
    "import numpy as np\n",
    "import os\n",
    "import matplotlib.pyplot as plt\n",
    "import seaborn as sns\n",
    "import scipy"
   ]
  },
  {
   "cell_type": "code",
   "execution_count": 2,
   "id": "94028848",
   "metadata": {},
   "outputs": [],
   "source": [
    "# Import active customers data\n",
    "\n",
    "df_final2 = pd.read_pickle(r'C:\\Users\\David\\Desktop\\Instacart Basket Analysis\\02 Data\\Prepared Data\\active_customers.pkl')"
   ]
  },
  {
   "cell_type": "code",
   "execution_count": 3,
   "id": "bf200b85",
   "metadata": {},
   "outputs": [],
   "source": [
    "path =r'C:\\Users\\David\\Desktop\\Instacart Basket Analysis'"
   ]
  },
  {
   "cell_type": "markdown",
   "id": "a8164b04",
   "metadata": {},
   "source": [
    "### Customer profiles "
   ]
  },
  {
   "cell_type": "markdown",
   "id": "337c2fce",
   "metadata": {},
   "source": [
    "#### Profiles based on age"
   ]
  },
  {
   "cell_type": "code",
   "execution_count": 4,
   "id": "e10b1eb2",
   "metadata": {},
   "outputs": [
    {
     "data": {
      "text/plain": [
       "count    3.096456e+07\n",
       "mean     4.946803e+01\n",
       "std      1.848528e+01\n",
       "min      1.800000e+01\n",
       "25%      3.300000e+01\n",
       "50%      4.900000e+01\n",
       "75%      6.500000e+01\n",
       "max      8.100000e+01\n",
       "Name: Age, dtype: float64"
      ]
     },
     "execution_count": 4,
     "metadata": {},
     "output_type": "execute_result"
    }
   ],
   "source": [
    "# Descibe age variable \n",
    "df_final2['Age'].describe()"
   ]
  },
  {
   "cell_type": "markdown",
   "id": "cefd0339",
   "metadata": {},
   "source": [
    "The minimum age is 18, and the max age is 81. We can group customers by age group as follows:\n",
    "\n",
    "18 - 35\n",
    "\n",
    "36 - 60\n",
    "\n",
    "61 and older"
   ]
  },
  {
   "cell_type": "code",
   "execution_count": 5,
   "id": "6a206691",
   "metadata": {},
   "outputs": [],
   "source": [
    " # Age category column\n",
    "df_final2.loc[(df_final2['Age'] >35) & (df_final2['Age'] <=60), 'age_category'] = 'Middle-aged Adults'\n",
    "df_final2.loc[df_final2['Age'] >60, 'age_category'] = 'Senior Citizens'\n",
    "df_final2.loc[df_final2['Age'] <=35, 'age_category'] = 'Young Adults'"
   ]
  },
  {
   "cell_type": "code",
   "execution_count": 6,
   "id": "747db41d",
   "metadata": {},
   "outputs": [
    {
     "data": {
      "text/plain": [
       "Middle-aged Adults    12113152\n",
       "Senior Citizens       10112607\n",
       "Young Adults           8738805\n",
       "Name: age_category, dtype: int64"
      ]
     },
     "execution_count": 6,
     "metadata": {},
     "output_type": "execute_result"
    }
   ],
   "source": [
    "# Check results \n",
    "df_final2['age_category'].value_counts(dropna = False)"
   ]
  },
  {
   "cell_type": "code",
   "execution_count": 7,
   "id": "f1674c39",
   "metadata": {},
   "outputs": [
    {
     "data": {
      "text/plain": [
       "(30964564, 37)"
      ]
     },
     "execution_count": 7,
     "metadata": {},
     "output_type": "execute_result"
    }
   ],
   "source": [
    "df_final2.shape"
   ]
  },
  {
   "cell_type": "markdown",
   "id": "1754903b",
   "metadata": {},
   "source": [
    "#### Profiles based on income "
   ]
  },
  {
   "cell_type": "code",
   "execution_count": 8,
   "id": "085b0c91",
   "metadata": {},
   "outputs": [
    {
     "data": {
      "text/plain": [
       "count    3.096456e+07\n",
       "mean     9.967587e+04\n",
       "std      4.314187e+04\n",
       "min      2.590300e+04\n",
       "25%      6.729200e+04\n",
       "50%      9.676500e+04\n",
       "75%      1.281020e+05\n",
       "max      5.939010e+05\n",
       "Name: income, dtype: float64"
      ]
     },
     "execution_count": 8,
     "metadata": {},
     "output_type": "execute_result"
    }
   ],
   "source": [
    "# Descibe income variable \n",
    "df_final2['income'].describe()"
   ]
  },
  {
   "cell_type": "code",
   "execution_count": 9,
   "id": "15be84ff",
   "metadata": {},
   "outputs": [],
   "source": [
    "# creating a flag for 'income' column\n",
    "df_final2.loc[(df_final2['income'] >=25900) & (df_final2['income'] <100000), 'income_class'] = 'Lower-income'\n",
    "df_final2.loc[(df_final2['income'] >=100000) & (df_final2['income'] <=200000), 'income_class'] = 'Middle-income'\n",
    "df_final2.loc[df_final2['income'] >200000, 'income_class'] = 'Upper_income'"
   ]
  },
  {
   "cell_type": "markdown",
   "id": "5967408b",
   "metadata": {},
   "source": [
    "#### Profiles based on department_id"
   ]
  },
  {
   "cell_type": "code",
   "execution_count": 10,
   "id": "ff134776",
   "metadata": {},
   "outputs": [],
   "source": [
    "# Import departments_wrangled.csv data\n",
    "df_dept = pd.read_csv(os.path.join(path,'02 Data', 'Prepared Data', 'departments_wrangled.csv'))"
   ]
  },
  {
   "cell_type": "code",
   "execution_count": 11,
   "id": "cad7f981",
   "metadata": {},
   "outputs": [
    {
     "data": {
      "text/html": [
       "<div>\n",
       "<style scoped>\n",
       "    .dataframe tbody tr th:only-of-type {\n",
       "        vertical-align: middle;\n",
       "    }\n",
       "\n",
       "    .dataframe tbody tr th {\n",
       "        vertical-align: top;\n",
       "    }\n",
       "\n",
       "    .dataframe thead th {\n",
       "        text-align: right;\n",
       "    }\n",
       "</style>\n",
       "<table border=\"1\" class=\"dataframe\">\n",
       "  <thead>\n",
       "    <tr style=\"text-align: right;\">\n",
       "      <th></th>\n",
       "      <th>Unnamed: 0</th>\n",
       "      <th>department</th>\n",
       "    </tr>\n",
       "  </thead>\n",
       "  <tbody>\n",
       "    <tr>\n",
       "      <th>0</th>\n",
       "      <td>1</td>\n",
       "      <td>frozen</td>\n",
       "    </tr>\n",
       "    <tr>\n",
       "      <th>1</th>\n",
       "      <td>2</td>\n",
       "      <td>other</td>\n",
       "    </tr>\n",
       "    <tr>\n",
       "      <th>2</th>\n",
       "      <td>3</td>\n",
       "      <td>bakery</td>\n",
       "    </tr>\n",
       "    <tr>\n",
       "      <th>3</th>\n",
       "      <td>4</td>\n",
       "      <td>produce</td>\n",
       "    </tr>\n",
       "    <tr>\n",
       "      <th>4</th>\n",
       "      <td>5</td>\n",
       "      <td>alcohol</td>\n",
       "    </tr>\n",
       "    <tr>\n",
       "      <th>5</th>\n",
       "      <td>6</td>\n",
       "      <td>international</td>\n",
       "    </tr>\n",
       "    <tr>\n",
       "      <th>6</th>\n",
       "      <td>7</td>\n",
       "      <td>beverages</td>\n",
       "    </tr>\n",
       "    <tr>\n",
       "      <th>7</th>\n",
       "      <td>8</td>\n",
       "      <td>pets</td>\n",
       "    </tr>\n",
       "    <tr>\n",
       "      <th>8</th>\n",
       "      <td>9</td>\n",
       "      <td>dry goods pasta</td>\n",
       "    </tr>\n",
       "    <tr>\n",
       "      <th>9</th>\n",
       "      <td>10</td>\n",
       "      <td>bulk</td>\n",
       "    </tr>\n",
       "    <tr>\n",
       "      <th>10</th>\n",
       "      <td>11</td>\n",
       "      <td>personal care</td>\n",
       "    </tr>\n",
       "    <tr>\n",
       "      <th>11</th>\n",
       "      <td>12</td>\n",
       "      <td>meat seafood</td>\n",
       "    </tr>\n",
       "    <tr>\n",
       "      <th>12</th>\n",
       "      <td>13</td>\n",
       "      <td>pantry</td>\n",
       "    </tr>\n",
       "    <tr>\n",
       "      <th>13</th>\n",
       "      <td>14</td>\n",
       "      <td>breakfast</td>\n",
       "    </tr>\n",
       "    <tr>\n",
       "      <th>14</th>\n",
       "      <td>15</td>\n",
       "      <td>canned goods</td>\n",
       "    </tr>\n",
       "    <tr>\n",
       "      <th>15</th>\n",
       "      <td>16</td>\n",
       "      <td>dairy eggs</td>\n",
       "    </tr>\n",
       "    <tr>\n",
       "      <th>16</th>\n",
       "      <td>17</td>\n",
       "      <td>household</td>\n",
       "    </tr>\n",
       "    <tr>\n",
       "      <th>17</th>\n",
       "      <td>18</td>\n",
       "      <td>babies</td>\n",
       "    </tr>\n",
       "    <tr>\n",
       "      <th>18</th>\n",
       "      <td>19</td>\n",
       "      <td>snacks</td>\n",
       "    </tr>\n",
       "    <tr>\n",
       "      <th>19</th>\n",
       "      <td>20</td>\n",
       "      <td>deli</td>\n",
       "    </tr>\n",
       "    <tr>\n",
       "      <th>20</th>\n",
       "      <td>21</td>\n",
       "      <td>missing</td>\n",
       "    </tr>\n",
       "  </tbody>\n",
       "</table>\n",
       "</div>"
      ],
      "text/plain": [
       "    Unnamed: 0       department\n",
       "0            1           frozen\n",
       "1            2            other\n",
       "2            3           bakery\n",
       "3            4          produce\n",
       "4            5          alcohol\n",
       "5            6    international\n",
       "6            7        beverages\n",
       "7            8             pets\n",
       "8            9  dry goods pasta\n",
       "9           10             bulk\n",
       "10          11    personal care\n",
       "11          12     meat seafood\n",
       "12          13           pantry\n",
       "13          14        breakfast\n",
       "14          15     canned goods\n",
       "15          16       dairy eggs\n",
       "16          17        household\n",
       "17          18           babies\n",
       "18          19           snacks\n",
       "19          20             deli\n",
       "20          21          missing"
      ]
     },
     "execution_count": 11,
     "metadata": {},
     "output_type": "execute_result"
    }
   ],
   "source": [
    "df_dept"
   ]
  },
  {
   "cell_type": "code",
   "execution_count": 12,
   "id": "a07d3c84",
   "metadata": {},
   "outputs": [],
   "source": [
    "#Rename \"Unnamed:0\" to \"department_id\"\n",
    "df_dept.rename(columns = {'Unnamed: 0' : 'department_id'}, inplace = True)"
   ]
  },
  {
   "cell_type": "code",
   "execution_count": 13,
   "id": "369e9a00",
   "metadata": {},
   "outputs": [
    {
     "data": {
      "text/html": [
       "<div>\n",
       "<style scoped>\n",
       "    .dataframe tbody tr th:only-of-type {\n",
       "        vertical-align: middle;\n",
       "    }\n",
       "\n",
       "    .dataframe tbody tr th {\n",
       "        vertical-align: top;\n",
       "    }\n",
       "\n",
       "    .dataframe thead th {\n",
       "        text-align: right;\n",
       "    }\n",
       "</style>\n",
       "<table border=\"1\" class=\"dataframe\">\n",
       "  <thead>\n",
       "    <tr style=\"text-align: right;\">\n",
       "      <th></th>\n",
       "      <th>department_id</th>\n",
       "      <th>department</th>\n",
       "    </tr>\n",
       "  </thead>\n",
       "  <tbody>\n",
       "    <tr>\n",
       "      <th>0</th>\n",
       "      <td>1</td>\n",
       "      <td>frozen</td>\n",
       "    </tr>\n",
       "    <tr>\n",
       "      <th>1</th>\n",
       "      <td>2</td>\n",
       "      <td>other</td>\n",
       "    </tr>\n",
       "    <tr>\n",
       "      <th>2</th>\n",
       "      <td>3</td>\n",
       "      <td>bakery</td>\n",
       "    </tr>\n",
       "    <tr>\n",
       "      <th>3</th>\n",
       "      <td>4</td>\n",
       "      <td>produce</td>\n",
       "    </tr>\n",
       "    <tr>\n",
       "      <th>4</th>\n",
       "      <td>5</td>\n",
       "      <td>alcohol</td>\n",
       "    </tr>\n",
       "    <tr>\n",
       "      <th>5</th>\n",
       "      <td>6</td>\n",
       "      <td>international</td>\n",
       "    </tr>\n",
       "    <tr>\n",
       "      <th>6</th>\n",
       "      <td>7</td>\n",
       "      <td>beverages</td>\n",
       "    </tr>\n",
       "    <tr>\n",
       "      <th>7</th>\n",
       "      <td>8</td>\n",
       "      <td>pets</td>\n",
       "    </tr>\n",
       "    <tr>\n",
       "      <th>8</th>\n",
       "      <td>9</td>\n",
       "      <td>dry goods pasta</td>\n",
       "    </tr>\n",
       "    <tr>\n",
       "      <th>9</th>\n",
       "      <td>10</td>\n",
       "      <td>bulk</td>\n",
       "    </tr>\n",
       "    <tr>\n",
       "      <th>10</th>\n",
       "      <td>11</td>\n",
       "      <td>personal care</td>\n",
       "    </tr>\n",
       "    <tr>\n",
       "      <th>11</th>\n",
       "      <td>12</td>\n",
       "      <td>meat seafood</td>\n",
       "    </tr>\n",
       "    <tr>\n",
       "      <th>12</th>\n",
       "      <td>13</td>\n",
       "      <td>pantry</td>\n",
       "    </tr>\n",
       "    <tr>\n",
       "      <th>13</th>\n",
       "      <td>14</td>\n",
       "      <td>breakfast</td>\n",
       "    </tr>\n",
       "    <tr>\n",
       "      <th>14</th>\n",
       "      <td>15</td>\n",
       "      <td>canned goods</td>\n",
       "    </tr>\n",
       "    <tr>\n",
       "      <th>15</th>\n",
       "      <td>16</td>\n",
       "      <td>dairy eggs</td>\n",
       "    </tr>\n",
       "    <tr>\n",
       "      <th>16</th>\n",
       "      <td>17</td>\n",
       "      <td>household</td>\n",
       "    </tr>\n",
       "    <tr>\n",
       "      <th>17</th>\n",
       "      <td>18</td>\n",
       "      <td>babies</td>\n",
       "    </tr>\n",
       "    <tr>\n",
       "      <th>18</th>\n",
       "      <td>19</td>\n",
       "      <td>snacks</td>\n",
       "    </tr>\n",
       "    <tr>\n",
       "      <th>19</th>\n",
       "      <td>20</td>\n",
       "      <td>deli</td>\n",
       "    </tr>\n",
       "    <tr>\n",
       "      <th>20</th>\n",
       "      <td>21</td>\n",
       "      <td>missing</td>\n",
       "    </tr>\n",
       "  </tbody>\n",
       "</table>\n",
       "</div>"
      ],
      "text/plain": [
       "    department_id       department\n",
       "0               1           frozen\n",
       "1               2            other\n",
       "2               3           bakery\n",
       "3               4          produce\n",
       "4               5          alcohol\n",
       "5               6    international\n",
       "6               7        beverages\n",
       "7               8             pets\n",
       "8               9  dry goods pasta\n",
       "9              10             bulk\n",
       "10             11    personal care\n",
       "11             12     meat seafood\n",
       "12             13           pantry\n",
       "13             14        breakfast\n",
       "14             15     canned goods\n",
       "15             16       dairy eggs\n",
       "16             17        household\n",
       "17             18           babies\n",
       "18             19           snacks\n",
       "19             20             deli\n",
       "20             21          missing"
      ]
     },
     "execution_count": 13,
     "metadata": {},
     "output_type": "execute_result"
    }
   ],
   "source": [
    "df_dept"
   ]
  },
  {
   "cell_type": "code",
   "execution_count": 14,
   "id": "16489974",
   "metadata": {},
   "outputs": [],
   "source": [
    "# Merging departments dataframe with 'df_final2'\n",
    "df_merged = df_final2.merge(df_dept, on = 'department_id')"
   ]
  },
  {
   "cell_type": "code",
   "execution_count": 15,
   "id": "dbcb8217",
   "metadata": {},
   "outputs": [
    {
     "data": {
      "text/html": [
       "<div>\n",
       "<style scoped>\n",
       "    .dataframe tbody tr th:only-of-type {\n",
       "        vertical-align: middle;\n",
       "    }\n",
       "\n",
       "    .dataframe tbody tr th {\n",
       "        vertical-align: top;\n",
       "    }\n",
       "\n",
       "    .dataframe thead th {\n",
       "        text-align: right;\n",
       "    }\n",
       "</style>\n",
       "<table border=\"1\" class=\"dataframe\">\n",
       "  <thead>\n",
       "    <tr style=\"text-align: right;\">\n",
       "      <th></th>\n",
       "      <th>user_id</th>\n",
       "      <th>department_id</th>\n",
       "    </tr>\n",
       "  </thead>\n",
       "  <tbody>\n",
       "    <tr>\n",
       "      <th>0</th>\n",
       "      <td>1</td>\n",
       "      <td>7</td>\n",
       "    </tr>\n",
       "    <tr>\n",
       "      <th>1</th>\n",
       "      <td>1</td>\n",
       "      <td>7</td>\n",
       "    </tr>\n",
       "    <tr>\n",
       "      <th>2</th>\n",
       "      <td>1</td>\n",
       "      <td>7</td>\n",
       "    </tr>\n",
       "    <tr>\n",
       "      <th>3</th>\n",
       "      <td>1</td>\n",
       "      <td>7</td>\n",
       "    </tr>\n",
       "    <tr>\n",
       "      <th>4</th>\n",
       "      <td>1</td>\n",
       "      <td>7</td>\n",
       "    </tr>\n",
       "  </tbody>\n",
       "</table>\n",
       "</div>"
      ],
      "text/plain": [
       "   user_id  department_id\n",
       "0        1              7\n",
       "1        1              7\n",
       "2        1              7\n",
       "3        1              7\n",
       "4        1              7"
      ]
     },
     "execution_count": 15,
     "metadata": {},
     "output_type": "execute_result"
    }
   ],
   "source": [
    "# Check merge results \n",
    "df_merged[['user_id', 'department_id']].head()"
   ]
  },
  {
   "cell_type": "code",
   "execution_count": 16,
   "id": "088888de",
   "metadata": {},
   "outputs": [
    {
     "data": {
      "text/plain": [
       "Index(['order_id', 'user_id', 'eval_set', 'order_number', 'orders_day_of_week',\n",
       "       'order_hour', 'days_since_prior_order', 'product_id',\n",
       "       'add_to_cart_order', 'reordered', '_merge', 'product_name', 'aisle_id',\n",
       "       'department_id', 'prices', ' price_range_loc', 'price_range_loc',\n",
       "       'busiest_day', 'busiest_days', 'busiest_period_of_day', 'max_order',\n",
       "       'loyalty_flag', 'mean_spend', 'spender_flag', 'median_order_frequency',\n",
       "       'order_frequency_flag', 'Unnamed: 0', 'Gender', 'STATE', 'Age',\n",
       "       'date_joined', 'dependents', 'fam_status', 'income', 'region',\n",
       "       'customer_activity', 'age_category', 'income_class', 'department'],\n",
       "      dtype='object')"
      ]
     },
     "execution_count": 16,
     "metadata": {},
     "output_type": "execute_result"
    }
   ],
   "source": [
    "df_merged.columns"
   ]
  },
  {
   "cell_type": "markdown",
   "id": "2bcc8430",
   "metadata": {},
   "source": [
    "#### Profiles based on dependents "
   ]
  },
  {
   "cell_type": "code",
   "execution_count": 19,
   "id": "34059ea1",
   "metadata": {},
   "outputs": [
    {
     "data": {
      "text/plain": [
       "count    3.096456e+07\n",
       "mean     1.501819e+00\n",
       "std      1.118896e+00\n",
       "min      0.000000e+00\n",
       "25%      1.000000e+00\n",
       "50%      2.000000e+00\n",
       "75%      3.000000e+00\n",
       "max      3.000000e+00\n",
       "Name: dependents, dtype: float64"
      ]
     },
     "execution_count": 19,
     "metadata": {},
     "output_type": "execute_result"
    }
   ],
   "source": [
    "# Check frequency of dependents column\n",
    "df_merged['dependents'].describe()"
   ]
  },
  {
   "cell_type": "code",
   "execution_count": 20,
   "id": "918e59f4",
   "metadata": {},
   "outputs": [
    {
     "data": {
      "text/plain": [
       "married                             21743711\n",
       "single                               5094410\n",
       "divorced/widowed                     2645271\n",
       "living with parents and siblings     1481172\n",
       "Name: fam_status, dtype: int64"
      ]
     },
     "execution_count": 20,
     "metadata": {},
     "output_type": "execute_result"
    }
   ],
   "source": [
    "# checking martitual status column.\n",
    "df_merged['fam_status'].value_counts(dropna = False)"
   ]
  },
  {
   "cell_type": "code",
   "execution_count": 24,
   "id": "a9addedb",
   "metadata": {},
   "outputs": [],
   "source": [
    "# Creating flag for number of dependents in a household.\n",
    "\n",
    "df_merged.loc[(df_merged['fam_status'].isin(['divorced/widowed','single','living with parents and siblings'])) & (df_merged['dependents'] ==0), 'customer_profile'] = 'Single adult'\n",
    "\n",
    "df_merged.loc[(df_merged['fam_status'].isin(['divorced/widowed','single','living with parents and siblings'])) & (df_merged['dependents'] >0), 'customer_profile'] = 'Young parent'\n",
    "\n",
    "df_merged.loc[(df_merged['fam_status']=='married') & (df_merged['dependents'] <=2), 'customer_profile'] = 'Family'\n",
    "\n",
    "df_merged.loc[(df_merged['fam_status']=='married') & (df_merged['dependents'] >2), 'customer_profile'] = 'Big Family'"
   ]
  },
  {
   "cell_type": "code",
   "execution_count": 26,
   "id": "6fdace0a",
   "metadata": {},
   "outputs": [
    {
     "data": {
      "text/html": [
       "<div>\n",
       "<style scoped>\n",
       "    .dataframe tbody tr th:only-of-type {\n",
       "        vertical-align: middle;\n",
       "    }\n",
       "\n",
       "    .dataframe tbody tr th {\n",
       "        vertical-align: top;\n",
       "    }\n",
       "\n",
       "    .dataframe thead th {\n",
       "        text-align: right;\n",
       "    }\n",
       "</style>\n",
       "<table border=\"1\" class=\"dataframe\">\n",
       "  <thead>\n",
       "    <tr style=\"text-align: right;\">\n",
       "      <th></th>\n",
       "      <th>fam_status</th>\n",
       "      <th>dependents</th>\n",
       "      <th>customer_profile</th>\n",
       "    </tr>\n",
       "  </thead>\n",
       "  <tbody>\n",
       "    <tr>\n",
       "      <th>0</th>\n",
       "      <td>married</td>\n",
       "      <td>3</td>\n",
       "      <td>Big Family</td>\n",
       "    </tr>\n",
       "    <tr>\n",
       "      <th>1</th>\n",
       "      <td>married</td>\n",
       "      <td>3</td>\n",
       "      <td>Big Family</td>\n",
       "    </tr>\n",
       "    <tr>\n",
       "      <th>2</th>\n",
       "      <td>married</td>\n",
       "      <td>3</td>\n",
       "      <td>Big Family</td>\n",
       "    </tr>\n",
       "    <tr>\n",
       "      <th>3</th>\n",
       "      <td>married</td>\n",
       "      <td>3</td>\n",
       "      <td>Big Family</td>\n",
       "    </tr>\n",
       "    <tr>\n",
       "      <th>4</th>\n",
       "      <td>married</td>\n",
       "      <td>3</td>\n",
       "      <td>Big Family</td>\n",
       "    </tr>\n",
       "    <tr>\n",
       "      <th>5</th>\n",
       "      <td>married</td>\n",
       "      <td>3</td>\n",
       "      <td>Big Family</td>\n",
       "    </tr>\n",
       "    <tr>\n",
       "      <th>6</th>\n",
       "      <td>married</td>\n",
       "      <td>3</td>\n",
       "      <td>Big Family</td>\n",
       "    </tr>\n",
       "    <tr>\n",
       "      <th>7</th>\n",
       "      <td>married</td>\n",
       "      <td>3</td>\n",
       "      <td>Big Family</td>\n",
       "    </tr>\n",
       "    <tr>\n",
       "      <th>8</th>\n",
       "      <td>married</td>\n",
       "      <td>3</td>\n",
       "      <td>Big Family</td>\n",
       "    </tr>\n",
       "    <tr>\n",
       "      <th>9</th>\n",
       "      <td>married</td>\n",
       "      <td>3</td>\n",
       "      <td>Big Family</td>\n",
       "    </tr>\n",
       "    <tr>\n",
       "      <th>10</th>\n",
       "      <td>married</td>\n",
       "      <td>3</td>\n",
       "      <td>Big Family</td>\n",
       "    </tr>\n",
       "    <tr>\n",
       "      <th>11</th>\n",
       "      <td>married</td>\n",
       "      <td>3</td>\n",
       "      <td>Big Family</td>\n",
       "    </tr>\n",
       "    <tr>\n",
       "      <th>12</th>\n",
       "      <td>married</td>\n",
       "      <td>3</td>\n",
       "      <td>Big Family</td>\n",
       "    </tr>\n",
       "    <tr>\n",
       "      <th>13</th>\n",
       "      <td>divorced/widowed</td>\n",
       "      <td>0</td>\n",
       "      <td>Single adult</td>\n",
       "    </tr>\n",
       "    <tr>\n",
       "      <th>14</th>\n",
       "      <td>divorced/widowed</td>\n",
       "      <td>0</td>\n",
       "      <td>Single adult</td>\n",
       "    </tr>\n",
       "    <tr>\n",
       "      <th>15</th>\n",
       "      <td>divorced/widowed</td>\n",
       "      <td>0</td>\n",
       "      <td>Single adult</td>\n",
       "    </tr>\n",
       "    <tr>\n",
       "      <th>16</th>\n",
       "      <td>divorced/widowed</td>\n",
       "      <td>0</td>\n",
       "      <td>Single adult</td>\n",
       "    </tr>\n",
       "    <tr>\n",
       "      <th>17</th>\n",
       "      <td>divorced/widowed</td>\n",
       "      <td>0</td>\n",
       "      <td>Single adult</td>\n",
       "    </tr>\n",
       "    <tr>\n",
       "      <th>18</th>\n",
       "      <td>divorced/widowed</td>\n",
       "      <td>0</td>\n",
       "      <td>Single adult</td>\n",
       "    </tr>\n",
       "    <tr>\n",
       "      <th>19</th>\n",
       "      <td>divorced/widowed</td>\n",
       "      <td>0</td>\n",
       "      <td>Single adult</td>\n",
       "    </tr>\n",
       "    <tr>\n",
       "      <th>20</th>\n",
       "      <td>divorced/widowed</td>\n",
       "      <td>0</td>\n",
       "      <td>Single adult</td>\n",
       "    </tr>\n",
       "    <tr>\n",
       "      <th>21</th>\n",
       "      <td>divorced/widowed</td>\n",
       "      <td>0</td>\n",
       "      <td>Single adult</td>\n",
       "    </tr>\n",
       "    <tr>\n",
       "      <th>22</th>\n",
       "      <td>divorced/widowed</td>\n",
       "      <td>0</td>\n",
       "      <td>Single adult</td>\n",
       "    </tr>\n",
       "    <tr>\n",
       "      <th>23</th>\n",
       "      <td>divorced/widowed</td>\n",
       "      <td>0</td>\n",
       "      <td>Single adult</td>\n",
       "    </tr>\n",
       "    <tr>\n",
       "      <th>24</th>\n",
       "      <td>divorced/widowed</td>\n",
       "      <td>0</td>\n",
       "      <td>Single adult</td>\n",
       "    </tr>\n",
       "    <tr>\n",
       "      <th>25</th>\n",
       "      <td>divorced/widowed</td>\n",
       "      <td>0</td>\n",
       "      <td>Single adult</td>\n",
       "    </tr>\n",
       "    <tr>\n",
       "      <th>26</th>\n",
       "      <td>divorced/widowed</td>\n",
       "      <td>0</td>\n",
       "      <td>Single adult</td>\n",
       "    </tr>\n",
       "    <tr>\n",
       "      <th>27</th>\n",
       "      <td>divorced/widowed</td>\n",
       "      <td>0</td>\n",
       "      <td>Single adult</td>\n",
       "    </tr>\n",
       "    <tr>\n",
       "      <th>28</th>\n",
       "      <td>divorced/widowed</td>\n",
       "      <td>0</td>\n",
       "      <td>Single adult</td>\n",
       "    </tr>\n",
       "    <tr>\n",
       "      <th>29</th>\n",
       "      <td>divorced/widowed</td>\n",
       "      <td>0</td>\n",
       "      <td>Single adult</td>\n",
       "    </tr>\n",
       "  </tbody>\n",
       "</table>\n",
       "</div>"
      ],
      "text/plain": [
       "          fam_status  dependents customer_profile\n",
       "0            married           3       Big Family\n",
       "1            married           3       Big Family\n",
       "2            married           3       Big Family\n",
       "3            married           3       Big Family\n",
       "4            married           3       Big Family\n",
       "5            married           3       Big Family\n",
       "6            married           3       Big Family\n",
       "7            married           3       Big Family\n",
       "8            married           3       Big Family\n",
       "9            married           3       Big Family\n",
       "10           married           3       Big Family\n",
       "11           married           3       Big Family\n",
       "12           married           3       Big Family\n",
       "13  divorced/widowed           0     Single adult\n",
       "14  divorced/widowed           0     Single adult\n",
       "15  divorced/widowed           0     Single adult\n",
       "16  divorced/widowed           0     Single adult\n",
       "17  divorced/widowed           0     Single adult\n",
       "18  divorced/widowed           0     Single adult\n",
       "19  divorced/widowed           0     Single adult\n",
       "20  divorced/widowed           0     Single adult\n",
       "21  divorced/widowed           0     Single adult\n",
       "22  divorced/widowed           0     Single adult\n",
       "23  divorced/widowed           0     Single adult\n",
       "24  divorced/widowed           0     Single adult\n",
       "25  divorced/widowed           0     Single adult\n",
       "26  divorced/widowed           0     Single adult\n",
       "27  divorced/widowed           0     Single adult\n",
       "28  divorced/widowed           0     Single adult\n",
       "29  divorced/widowed           0     Single adult"
      ]
     },
     "execution_count": 26,
     "metadata": {},
     "output_type": "execute_result"
    }
   ],
   "source": [
    "# Checking the results.\n",
    "df_merged[['fam_status', 'dependents', 'customer_profile']].head(30)"
   ]
  },
  {
   "cell_type": "code",
   "execution_count": 27,
   "id": "7174fb42",
   "metadata": {},
   "outputs": [
    {
     "data": {
      "text/plain": [
       "Family          14459664\n",
       "Single adult     7739681\n",
       "Big Family       7284047\n",
       "Young parent     1481172\n",
       "Name: customer_profile, dtype: int64"
      ]
     },
     "execution_count": 27,
     "metadata": {},
     "output_type": "execute_result"
    }
   ],
   "source": [
    "df_merged['customer_profile'].value_counts(dropna = False)"
   ]
  },
  {
   "cell_type": "markdown",
   "id": "1944fbdf",
   "metadata": {},
   "source": [
    "## Export data "
   ]
  },
  {
   "cell_type": "code",
   "execution_count": 29,
   "id": "116c8440",
   "metadata": {},
   "outputs": [],
   "source": [
    "df_merged.to_pickle(os.path.join(path, '02 Data','Prepared Data', 'active_customers_orders_products_depts.pkl'))"
   ]
  }
 ],
 "metadata": {
  "kernelspec": {
   "display_name": "Python 3 (ipykernel)",
   "language": "python",
   "name": "python3"
  },
  "language_info": {
   "codemirror_mode": {
    "name": "ipython",
    "version": 3
   },
   "file_extension": ".py",
   "mimetype": "text/x-python",
   "name": "python",
   "nbconvert_exporter": "python",
   "pygments_lexer": "ipython3",
   "version": "3.10.9"
  }
 },
 "nbformat": 4,
 "nbformat_minor": 5
}
