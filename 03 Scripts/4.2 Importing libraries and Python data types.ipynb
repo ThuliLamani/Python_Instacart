{
 "cells": [
  {
   "cell_type": "markdown",
   "id": "5a7ec264",
   "metadata": {},
   "source": [
    "# 01. Importing libraries"
   ]
  },
  {
   "cell_type": "code",
   "execution_count": 1,
   "id": "de07aee3",
   "metadata": {},
   "outputs": [],
   "source": [
    "# import libraries\n",
    "import pandas as pd\n",
    "import numpy as np\n",
    "import os "
   ]
  },
  {
   "cell_type": "markdown",
   "id": "d2b2f91d",
   "metadata": {},
   "source": [
    "# 02. Data types"
   ]
  },
  {
   "cell_type": "code",
   "execution_count": 7,
   "id": "5ea36a35",
   "metadata": {},
   "outputs": [],
   "source": [
    "x = 2"
   ]
  },
  {
   "cell_type": "code",
   "execution_count": 8,
   "id": "8e5a86c4",
   "metadata": {},
   "outputs": [
    {
     "data": {
      "text/plain": [
       "2"
      ]
     },
     "execution_count": 8,
     "metadata": {},
     "output_type": "execute_result"
    }
   ],
   "source": [
    "x"
   ]
  },
  {
   "cell_type": "code",
   "execution_count": 9,
   "id": "a6383a84",
   "metadata": {
    "scrolled": true
   },
   "outputs": [
    {
     "name": "stdout",
     "output_type": "stream",
     "text": [
      "2\n"
     ]
    }
   ],
   "source": [
    "print(x)"
   ]
  },
  {
   "cell_type": "code",
   "execution_count": 10,
   "id": "ac2eea90",
   "metadata": {},
   "outputs": [
    {
     "data": {
      "text/plain": [
       "100"
      ]
     },
     "execution_count": 10,
     "metadata": {},
     "output_type": "execute_result"
    }
   ],
   "source": [
    "50*x"
   ]
  },
  {
   "cell_type": "code",
   "execution_count": 11,
   "id": "1eecb128",
   "metadata": {},
   "outputs": [
    {
     "data": {
      "text/plain": [
       "100"
      ]
     },
     "execution_count": 11,
     "metadata": {},
     "output_type": "execute_result"
    }
   ],
   "source": [
    "98+x"
   ]
  },
  {
   "cell_type": "code",
   "execution_count": 12,
   "id": "fa79000e",
   "metadata": {},
   "outputs": [
    {
     "data": {
      "text/plain": [
       "100.0"
      ]
     },
     "execution_count": 12,
     "metadata": {},
     "output_type": "execute_result"
    }
   ],
   "source": [
    "200/x"
   ]
  },
  {
   "cell_type": "code",
   "execution_count": 1,
   "id": "2a84d411",
   "metadata": {},
   "outputs": [],
   "source": [
    " y = 4.75"
   ]
  },
  {
   "cell_type": "code",
   "execution_count": 2,
   "id": "98344bca",
   "metadata": {},
   "outputs": [
    {
     "name": "stdout",
     "output_type": "stream",
     "text": [
      "4.75\n"
     ]
    }
   ],
   "source": [
    "print(y)"
   ]
  },
  {
   "cell_type": "code",
   "execution_count": 6,
   "id": "07345005",
   "metadata": {},
   "outputs": [
    {
     "data": {
      "text/plain": [
       "float"
      ]
     },
     "execution_count": 6,
     "metadata": {},
     "output_type": "execute_result"
    }
   ],
   "source": [
    "type(y)"
   ]
  },
  {
   "cell_type": "code",
   "execution_count": 3,
   "id": "b3db3762",
   "metadata": {},
   "outputs": [],
   "source": [
    "z= 1.25"
   ]
  },
  {
   "cell_type": "code",
   "execution_count": 4,
   "id": "1fd5f2b6",
   "metadata": {},
   "outputs": [
    {
     "name": "stdout",
     "output_type": "stream",
     "text": [
      "1.25\n"
     ]
    }
   ],
   "source": [
    "print(z)"
   ]
  },
  {
   "cell_type": "code",
   "execution_count": 7,
   "id": "e78babec",
   "metadata": {},
   "outputs": [
    {
     "data": {
      "text/plain": [
       "float"
      ]
     },
     "execution_count": 7,
     "metadata": {},
     "output_type": "execute_result"
    }
   ],
   "source": [
    "type(z)"
   ]
  },
  {
   "cell_type": "code",
   "execution_count": 10,
   "id": "e874a28f",
   "metadata": {},
   "outputs": [
    {
     "data": {
      "text/plain": [
       "0.2631578947368421"
      ]
     },
     "execution_count": 10,
     "metadata": {},
     "output_type": "execute_result"
    }
   ],
   "source": [
    "z/y"
   ]
  },
  {
   "cell_type": "code",
   "execution_count": 12,
   "id": "fa57356f",
   "metadata": {},
   "outputs": [],
   "source": [
    "a='up'"
   ]
  },
  {
   "cell_type": "code",
   "execution_count": 13,
   "id": "f08853a7",
   "metadata": {},
   "outputs": [
    {
     "data": {
      "text/plain": [
       "str"
      ]
     },
     "execution_count": 13,
     "metadata": {},
     "output_type": "execute_result"
    }
   ],
   "source": [
    "type(a)"
   ]
  },
  {
   "cell_type": "code",
   "execution_count": 14,
   "id": "b372afaa",
   "metadata": {},
   "outputs": [],
   "source": [
    "b='right'"
   ]
  },
  {
   "cell_type": "code",
   "execution_count": 15,
   "id": "8d067245",
   "metadata": {},
   "outputs": [
    {
     "data": {
      "text/plain": [
       "str"
      ]
     },
     "execution_count": 15,
     "metadata": {},
     "output_type": "execute_result"
    }
   ],
   "source": [
    "type(b)"
   ]
  },
  {
   "cell_type": "code",
   "execution_count": 16,
   "id": "3e8ce199",
   "metadata": {},
   "outputs": [
    {
     "data": {
      "text/plain": [
       "'upright'"
      ]
     },
     "execution_count": 16,
     "metadata": {},
     "output_type": "execute_result"
    }
   ],
   "source": [
    "a+b"
   ]
  },
  {
   "cell_type": "code",
   "execution_count": 23,
   "id": "03185a4a",
   "metadata": {},
   "outputs": [],
   "source": [
    "c = 'Hi, '"
   ]
  },
  {
   "cell_type": "code",
   "execution_count": 24,
   "id": "e2b57ffe",
   "metadata": {},
   "outputs": [],
   "source": [
    "d= 'Abdulhakeem'"
   ]
  },
  {
   "cell_type": "code",
   "execution_count": 25,
   "id": "fb9f434d",
   "metadata": {},
   "outputs": [
    {
     "data": {
      "text/plain": [
       "'Hi, Abdulhakeem'"
      ]
     },
     "execution_count": 25,
     "metadata": {},
     "output_type": "execute_result"
    }
   ],
   "source": [
    "c+d"
   ]
  },
  {
   "cell_type": "code",
   "execution_count": 26,
   "id": "4dbf8609",
   "metadata": {},
   "outputs": [],
   "source": [
    "e= 'Happy '"
   ]
  },
  {
   "cell_type": "code",
   "execution_count": 27,
   "id": "2ed2f4ae",
   "metadata": {},
   "outputs": [],
   "source": [
    "f= 'Friday!'"
   ]
  },
  {
   "cell_type": "code",
   "execution_count": 28,
   "id": "a257e76c",
   "metadata": {},
   "outputs": [
    {
     "data": {
      "text/plain": [
       "'Happy Friday!'"
      ]
     },
     "execution_count": 28,
     "metadata": {},
     "output_type": "execute_result"
    }
   ],
   "source": [
    "e+f"
   ]
  },
  {
   "cell_type": "code",
   "execution_count": 31,
   "id": "0f7fb4bd",
   "metadata": {},
   "outputs": [
    {
     "data": {
      "text/plain": [
       "'Friday!Friday!Friday!Friday!Friday!Friday!Friday!Friday!Friday!Friday!Friday!Friday!Friday!Friday!Friday!Friday!Friday!Friday!Friday!Friday!Friday!Friday!Friday!Friday!Friday!Friday!Friday!Friday!Friday!Friday!Friday!Friday!Friday!Friday!Friday!Friday!Friday!Friday!Friday!Friday!Friday!Friday!Friday!Friday!Friday!Friday!Friday!Friday!Friday!Friday!Friday!Friday!Friday!Friday!Friday!Friday!Friday!Friday!Friday!Friday!Friday!Friday!Friday!Friday!Friday!Friday!Friday!Friday!Friday!Friday!Friday!Friday!Friday!Friday!Friday!Friday!Friday!Friday!Friday!Friday!Friday!Friday!Friday!Friday!Friday!Friday!Friday!Friday!Friday!Friday!Friday!Friday!Friday!Friday!Friday!Friday!Friday!Friday!Friday!Friday!'"
      ]
     },
     "execution_count": 31,
     "metadata": {},
     "output_type": "execute_result"
    }
   ],
   "source": [
    "f*100"
   ]
  },
  {
   "cell_type": "code",
   "execution_count": null,
   "id": "9d657c9f",
   "metadata": {},
   "outputs": [],
   "source": []
  }
 ],
 "metadata": {
  "kernelspec": {
   "display_name": "Python 3 (ipykernel)",
   "language": "python",
   "name": "python3"
  },
  "language_info": {
   "codemirror_mode": {
    "name": "ipython",
    "version": 3
   },
   "file_extension": ".py",
   "mimetype": "text/x-python",
   "name": "python",
   "nbconvert_exporter": "python",
   "pygments_lexer": "ipython3",
   "version": "3.11.5"
  }
 },
 "nbformat": 4,
 "nbformat_minor": 5
}
